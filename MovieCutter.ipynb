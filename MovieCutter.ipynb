{
  "nbformat": 4,
  "nbformat_minor": 0,
  "metadata": {
    "colab": {
      "provenance": [],
      "include_colab_link": true
    },
    "kernelspec": {
      "name": "python3",
      "display_name": "Python 3"
    },
    "language_info": {
      "name": "python"
    }
  },
  "cells": [
    {
      "cell_type": "markdown",
      "metadata": {
        "id": "view-in-github",
        "colab_type": "text"
      },
      "source": [
        "<a href=\"https://colab.research.google.com/github/SIDIBEMoussa/MovieCutterTikTok/blob/main/MovieCutter.ipynb\" target=\"_parent\"><img src=\"https://colab.research.google.com/assets/colab-badge.svg\" alt=\"Open In Colab\"/></a>"
      ]
    },
    {
      "cell_type": "code",
      "source": [
        "from google.colab import drive\n",
        "drive.mount('/content/drive')\n",
        "\n",
        "PATH = \"/content/drive/MyDrive/TIKTOKVIDEO\"\n",
        "import os\n",
        "\n",
        "os.chdir(PATH)"
      ],
      "metadata": {
        "colab": {
          "base_uri": "https://localhost:8080/"
        },
        "id": "9SPF8aWklCFD",
        "outputId": "db918b49-5eb8-4a9a-c887-743cf4d2731f"
      },
      "execution_count": null,
      "outputs": [
        {
          "output_type": "stream",
          "name": "stdout",
          "text": [
            "Mounted at /content/drive\n"
          ]
        }
      ]
    },
    {
      "cell_type": "code",
      "execution_count": null,
      "metadata": {
        "colab": {
          "base_uri": "https://localhost:8080/"
        },
        "id": "QrIf2TLXW7xP",
        "outputId": "d491c5e3-fa24-446a-eceb-267ac25e674d"
      },
      "outputs": [
        {
          "output_type": "stream",
          "name": "stderr",
          "text": [
            "WARNING:py.warnings:/usr/local/lib/python3.11/dist-packages/moviepy/video/io/sliders.py:61: SyntaxWarning: \"is\" with a literal. Did you mean \"==\"?\n",
            "  if event.key is 'enter':\n",
            "\n"
          ]
        }
      ],
      "source": [
        "import moviepy.editor as mpe\n",
        "\n",
        "def decouper_video(fichier_video, intervalle=120):\n",
        "    \"\"\"Découpe une vidéo en intervalles de deux minutes.\n",
        "\n",
        "    Args :\n",
        "        fichier_video : Le chemin d’accès au fichier vidéo.\n",
        "        intervalle : La durée de chaque intervalle en secondes. La valeur par défaut est de 120 secondes (2 minutes).\n",
        "\n",
        "    Returns :\n",
        "        Une liste de clips vidéo.\n",
        "    \"\"\"\n",
        "\n",
        "    # Chargez le fichier vidéo.\n",
        "    video = mpe.VideoFileClip(fichier_video)\n",
        "\n",
        "    # Calculez le nombre d’intervalles.\n",
        "    nb_intervalles = int(video.duration / intervalle)\n",
        "\n",
        "    # Découpez la vidéo en intervalles.\n",
        "    clips = []\n",
        "    duree = video.duration\n",
        "    cumul = 0\n",
        "    while (duree-cumul)>intervalle:\n",
        "        if cumul == 0:\n",
        "            clip = video.subclip(cumul, cumul + intervalle)\n",
        "        elif duree-cumul-2*intervalle<0:\n",
        "            clip = video.subclip(cumul, duree)\n",
        "            clips.append(clip)\n",
        "            break\n",
        "        else:\n",
        "            clip = video.subclip(cumul-5, cumul + intervalle)\n",
        "\n",
        "        clips.append(clip)\n",
        "        cumul += intervalle\n",
        "\n",
        "    # Retournez la liste de clips.\n",
        "    return clips"
      ]
    },
    {
      "cell_type": "code",
      "source": [
        "# Découpez la vidéo « ma_video.mp4 » en intervalles de deux minutes.\n",
        "file_video = \"clip_0.mp4\"\n",
        "clips = decouper_video(file_video,intervalle=40)\n",
        "\n",
        "# Enregistrez les clips dans des fichiers distincts.\n",
        "for i, clip in enumerate(clips):\n",
        "    clip.write_videofile(f\"clip_test_{i}.mp4\")"
      ],
      "metadata": {
        "colab": {
          "base_uri": "https://localhost:8080/"
        },
        "id": "wcVOngNIYJPp",
        "outputId": "612de829-bc76-464f-ec0b-905f246f24bc"
      },
      "execution_count": null,
      "outputs": [
        {
          "output_type": "stream",
          "name": "stdout",
          "text": [
            "Moviepy - Building video clip_test_0.mp4.\n",
            "MoviePy - Writing audio in clip_test_0TEMP_MPY_wvf_snd.mp3\n"
          ]
        },
        {
          "output_type": "stream",
          "name": "stderr",
          "text": []
        },
        {
          "output_type": "stream",
          "name": "stdout",
          "text": [
            "MoviePy - Done.\n",
            "Moviepy - Writing video clip_test_0.mp4\n",
            "\n"
          ]
        },
        {
          "output_type": "stream",
          "name": "stderr",
          "text": []
        },
        {
          "output_type": "stream",
          "name": "stdout",
          "text": [
            "Moviepy - Done !\n",
            "Moviepy - video ready clip_test_0.mp4\n",
            "Moviepy - Building video clip_test_1.mp4.\n",
            "MoviePy - Writing audio in clip_test_1TEMP_MPY_wvf_snd.mp3\n"
          ]
        },
        {
          "output_type": "stream",
          "name": "stderr",
          "text": []
        },
        {
          "output_type": "stream",
          "name": "stdout",
          "text": [
            "MoviePy - Done.\n",
            "Moviepy - Writing video clip_test_1.mp4\n",
            "\n"
          ]
        },
        {
          "output_type": "stream",
          "name": "stderr",
          "text": []
        },
        {
          "output_type": "stream",
          "name": "stdout",
          "text": [
            "Moviepy - Done !\n",
            "Moviepy - video ready clip_test_1.mp4\n",
            "Moviepy - Building video clip_test_2.mp4.\n",
            "MoviePy - Writing audio in clip_test_2TEMP_MPY_wvf_snd.mp3\n"
          ]
        },
        {
          "output_type": "stream",
          "name": "stderr",
          "text": []
        },
        {
          "output_type": "stream",
          "name": "stdout",
          "text": [
            "MoviePy - Done.\n",
            "Moviepy - Writing video clip_test_2.mp4\n",
            "\n"
          ]
        },
        {
          "output_type": "stream",
          "name": "stderr",
          "text": []
        },
        {
          "output_type": "stream",
          "name": "stdout",
          "text": [
            "Moviepy - Done !\n",
            "Moviepy - video ready clip_test_2.mp4\n",
            "Moviepy - Building video clip_test_3.mp4.\n",
            "MoviePy - Writing audio in clip_test_3TEMP_MPY_wvf_snd.mp3\n"
          ]
        },
        {
          "output_type": "stream",
          "name": "stderr",
          "text": []
        },
        {
          "output_type": "stream",
          "name": "stdout",
          "text": [
            "MoviePy - Done.\n",
            "Moviepy - Writing video clip_test_3.mp4\n",
            "\n"
          ]
        },
        {
          "output_type": "stream",
          "name": "stderr",
          "text": [
            "t: 100%|█████████▉| 1498/1501 [00:32<00:00, 40.29it/s, now=None]WARNING:py.warnings:/usr/local/lib/python3.11/dist-packages/moviepy/video/io/ffmpeg_reader.py:123: UserWarning: Warning: in file clip_0.mp4, 691200 bytes wanted but 0 bytes read,at frame 4500/4501, at time 180.00/180.01 sec. Using the last valid frame instead.\n",
            "  warnings.warn(\"Warning: in file %s, \"%(self.filename)+\n",
            "\n"
          ]
        },
        {
          "output_type": "stream",
          "name": "stdout",
          "text": [
            "Moviepy - Done !\n",
            "Moviepy - video ready clip_test_3.mp4\n"
          ]
        }
      ]
    },
    {
      "cell_type": "code",
      "source": [],
      "metadata": {
        "id": "p5DqRJnoYg8N"
      },
      "execution_count": null,
      "outputs": []
    }
  ]
}